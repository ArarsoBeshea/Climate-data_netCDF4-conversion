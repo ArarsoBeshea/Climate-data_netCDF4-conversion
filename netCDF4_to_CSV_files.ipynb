{
 "cells": [
  {
   "cell_type": "markdown",
   "id": "558f8c65",
   "metadata": {},
   "source": [
    "# Data Extraction and Conversion from netCDF4 to Pandas DataFrame\n",
    "\n",
    "This code extracts temperature (t2m) and total precipitation (tp) data from a netCDF4 file and converts it into a Pandas DataFrame. Here are the steps:\n",
    "\n",
    "1. Import necessary libraries:\n",
    "   - netCDF4: for working with netCDF files.\n",
    "   - Pandas: for creating and manipulating DataFrames.\n",
    "   - NumPy: for numerical operations.\n",
    "\n",
    "2. Open the netCDF file and print its dimensions and variables.\n",
    "\n",
    "3. Extract temperature (t2m) and total precipitation (tp) variables along with their attributes.\n",
    "\n",
    "4. Extract scale factor and add offset for both temperature and total precipitation.\n",
    "\n",
    "5. Convert time values to datetime objects using the num2date function.\n",
    "\n",
    "6. Apply scale factor and add offset for temperature and total precipitation to obtain actual values.\n",
    "\n",
    "7. Convert temperature from Kelvin to degrees Celsius.\n",
    "\n",
    "8. Convert total precipitation from meters to millimeters.\n",
    "\n",
    "9. Create arrays for latitude, longitude, and experiment version.\n",
    "\n",
    "10. Create 2D arrays for latitude, longitude, and experiment version using meshgrid.\n",
    "\n",
    "11. Flatten the 2D arrays for easier DataFrame creation.\n",
    "\n",
    "12. Create a DataFrame containing time, latitude, longitude, experiment version, temperature (t2m), and total precipitation (tp) values.\n",
    "\n",
    "13. Save the DataFrame to a CSV file named \"climate_data_all_rows.csv\".\n",
    "\n",
    "14. Print a confirmation message indicating that the data has been saved successfully.\n",
    "\n"
   ]
  },
  {
   "cell_type": "code",
   "execution_count": null,
   "id": "f2a9c4a4",
   "metadata": {},
   "outputs": [],
   "source": [
    "import netCDF4 as nc\n",
    "from netCDF4 import num2date\n",
    "import pandas as pd\n",
    "import numpy as np"
   ]
  },
  {
   "cell_type": "code",
   "execution_count": null,
   "id": "4d71deff",
   "metadata": {},
   "outputs": [],
   "source": [
    "df = nc.Dataset('ERA5_Reanalysis.nc')\n",
    "print(df.dimensions)"
   ]
  },
  {
   "cell_type": "code",
   "execution_count": null,
   "id": "3556e534",
   "metadata": {},
   "outputs": [],
   "source": [
    "print(df.variables)"
   ]
  },
  {
   "cell_type": "code",
   "execution_count": null,
   "id": "735ca5ab",
   "metadata": {},
   "outputs": [],
   "source": [
    "# Open the netCDF file\n",
    "with df as dataset:\n",
    "    # Access variables and their attributes\n",
    "    t2m_variable = dataset.variables['t2m']\n",
    "    tp_variable = dataset.variables['tp']\n",
    "    time_variable = dataset.variables['time']\n",
    "    expver_variable = dataset.variables['expver']\n",
    "    lat_variable = dataset.variables['latitude']\n",
    "    lon_variable = dataset.variables['longitude']\n",
    "\n",
    "    # Extract scale factor and add offset for temperature\n",
    "    t2m_scale_factor = t2m_variable.scale_factor\n",
    "    t2m_add_offset = t2m_variable.add_offset\n",
    "\n",
    "    # Extract scale factor and add offset for total precipitation\n",
    "    tp_scale_factor = tp_variable.scale_factor\n",
    "    tp_add_offset = tp_variable.add_offset\n",
    "\n",
    "    # Convert time values to datetime objects\n",
    "    times = num2date(time_variable[:], units=time_variable.units)\n",
    "\n",
    "    # Apply scale factor and add offset for temperature and total precipitation\n",
    "    t2m_values = t2m_variable[:] * t2m_scale_factor + t2m_add_offset\n",
    "    tp_values = tp_variable[:] * tp_scale_factor + tp_add_offset\n",
    "\n",
    "    # Convert temperature from Kelvin to degrees Celsius\n",
    "    t2m_values_celsius = t2m_values - 273.15\n",
    "\n",
    "    # Convert total precipitation from meters to millimeters\n",
    "    tp_values_mm = tp_values * 1000  # 1 meter = 1000 millimeters\n",
    "\n",
    "    # Create 1D arrays for latitude, longitude, and expver\n",
    "    latitudes = lat_variable[:]\n",
    "    longitudes = lon_variable[:]\n",
    "    expver_values = expver_variable[:]\n",
    "\n",
    "    # Create 2D arrays for latitude, longitude, and expver\n",
    "    latitudes_2d, longitudes_2d, expver_2d = np.meshgrid(latitudes, longitudes, expver_values, indexing='ij')\n",
    "\n",
    "    # Flatten the 2D arrays for easier DataFrame creation\n",
    "    latitudes_flat = latitudes_2d.flatten()\n",
    "    longitudes_flat = longitudes_2d.flatten()\n",
    "    expver_flat = expver_2d.flatten()\n",
    "\n",
    "    # Create DataFrame with time, latitude, longitude, expver, t2m, and tp values\n",
    "    df = pd.DataFrame({\n",
    "        'time': np.repeat(times, len(latitudes_flat)),\n",
    "        'latitude': np.tile(latitudes_flat, len(times)),\n",
    "        'longitude': np.tile(longitudes_flat, len(times)),\n",
    "        'expver': np.tile(expver_flat, len(times)),\n",
    "        't2m': t2m_values_celsius.flatten(),\n",
    "        'tp': tp_values_mm.flatten()\n",
    "    })\n",
    "\n",
    "    # Save DataFrame to CSV\n",
    "    csv_filename = \"climate_data_all_rows.csv\"\n",
    "    df.to_csv(csv_filename, index=False)\n",
    "\n",
    "print(f\"Climate data (all rows) saved to {csv_filename}\")"
   ]
  },
  {
   "cell_type": "code",
   "execution_count": null,
   "id": "f258a631",
   "metadata": {},
   "outputs": [],
   "source": []
  }
 ],
 "metadata": {
  "kernelspec": {
   "display_name": "Python 3 (ipykernel)",
   "language": "python",
   "name": "python3"
  },
  "language_info": {
   "codemirror_mode": {
    "name": "ipython",
    "version": 3
   },
   "file_extension": ".py",
   "mimetype": "text/x-python",
   "name": "python",
   "nbconvert_exporter": "python",
   "pygments_lexer": "ipython3",
   "version": "3.11.4"
  }
 },
 "nbformat": 4,
 "nbformat_minor": 5
}
